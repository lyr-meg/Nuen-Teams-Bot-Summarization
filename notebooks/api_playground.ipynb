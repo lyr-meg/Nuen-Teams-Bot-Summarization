{
 "cells": [
  {
   "cell_type": "code",
   "execution_count": null,
   "id": "526e1629",
   "metadata": {},
   "outputs": [],
   "source": [
    "import requests\n",
    "import json"
   ]
  },
  {
   "cell_type": "code",
   "execution_count": null,
   "id": "7fe42b04",
   "metadata": {
    "scrolled": false
   },
   "outputs": [],
   "source": [
    "def get_openai_response(transcript, task_tag='\\n tl;dr:'):\n",
    "    endpoint = \"https://testrrm.openai.azure.com/openai/deployments/generate_response/completions?api-version=2022-06-01-preview\"\n",
    "    headers = {\n",
    "            \"api-key\": os.environ['OPENAI_API_KEY']\n",
    "          }\n",
    "    data = {\n",
    "              \"prompt\": transcript + task_tag,\n",
    "              \"temperature\": 0.9,\n",
    "              \"top_p\": 1,\n",
    "              \"frequency_penalty\": 0,\n",
    "              \"presence_penalty\": 0,\n",
    "              \"best_of\": 1,\n",
    "              \"max_tokens\": 250,\n",
    "              \"stop\": None\n",
    "            }\n",
    "    response = requests.post(endpoint, data=json.dumps(data).encode(encoding='utf-8'), headers=headers)\n",
    "    ans_dict = json.loads(response.text.rstrip())\n",
    "    return ans_dict['choices'][0]['text'].strip()"
   ]
  },
  {
   "cell_type": "code",
   "execution_count": null,
   "id": "8ef17823",
   "metadata": {},
   "outputs": [],
   "source": [
    "transcript = \"Boarding now. Yeah. Yeah. So this is like our pipeline. Like very high level. So everything starts from. What we call the grape. Uh, so if you go here to Jarvis, so you just open browser. This is a. It's called Geneva. Technically, yeah. Hmm yeah. So that's the link. If you go to Geneva here. I can add this here. Can I insert a link? So basically, that's the grip. It's. So if you go to here and then go to logs, you know stick grip is here. And then you have, you know how life, lots of options here.\"\n",
    "ans_dict = get_openai_response(transcript)\n",
    "ans_dict"
   ]
  },
  {
   "cell_type": "code",
   "execution_count": null,
   "id": "b3f7c0d1",
   "metadata": {},
   "outputs": [],
   "source": []
  },
  {
   "cell_type": "code",
   "execution_count": null,
   "id": "71ddd552",
   "metadata": {
    "scrolled": false
   },
   "outputs": [],
   "source": [
    "url = 'https://www.postman.com/collections/xx'\n",
    "f = requests.get(url)\n",
    "ans_dict = json.loads(f.text.strip())\n",
    "print(json.dumps(ans_dict, indent=2))\n",
    "print(json.dumps(ans_dict['item'][0]['request']['body']['raw'], indent=2))\n",
    "print(ans_dict['item'][0]['request']['body']['raw'])"
   ]
  },
  {
   "cell_type": "code",
   "execution_count": null,
   "id": "f8770b46",
   "metadata": {},
   "outputs": [],
   "source": []
  }
 ],
 "metadata": {
  "kernelspec": {
   "display_name": "Python 3",
   "language": "python",
   "name": "python3"
  },
  "language_info": {
   "codemirror_mode": {
    "name": "ipython",
    "version": 3
   },
   "file_extension": ".py",
   "mimetype": "text/x-python",
   "name": "python",
   "nbconvert_exporter": "python",
   "pygments_lexer": "ipython3",
   "version": "3.8.8"
  }
 },
 "nbformat": 4,
 "nbformat_minor": 5
}
